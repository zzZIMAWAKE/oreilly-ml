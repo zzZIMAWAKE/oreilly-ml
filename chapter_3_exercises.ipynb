{
 "cells": [
  {
   "cell_type": "code",
   "execution_count": 1,
   "metadata": {},
   "outputs": [
    {
     "data": {
      "text/plain": [
       "dict_keys(['data', 'target', 'frame', 'feature_names', 'target_names', 'DESCR', 'details', 'categories', 'url'])"
      ]
     },
     "execution_count": 1,
     "metadata": {},
     "output_type": "execute_result"
    }
   ],
   "source": [
    "# Exercise 1: classifier for MNIST with 97%+ accuracy\n",
    "# hint: KNeighbours and GridSearchCV on n_neighbors & weights\n",
    "\n",
    "from sklearn.datasets import fetch_openml\n",
    "mnist = fetch_openml('mnist_784', version=1)\n",
    "mnist.keys()"
   ]
  },
  {
   "cell_type": "code",
   "execution_count": 5,
   "metadata": {},
   "outputs": [],
   "source": [
    "X, y = mnist[\"data\"], mnist[\"target\"]\n",
    "X_train, X_test, y_train, y_test = X[:60000], X[60000:], y[:60000], y[60000:]"
   ]
  },
  {
   "cell_type": "code",
   "execution_count": null,
   "metadata": {},
   "outputs": [],
   "source": [
    "from sklearn.neighbors import KNeighborsClassifier\n",
    "from sklearn.model_selection import GridSearchCV\n",
    "\n",
    "param_grid = {\n",
    "    \"n_neighbors\": [3, 4, 5],\n",
    "    \"weights\": [\"uniform\", \"distance\"]\n",
    "}\n",
    "\n",
    "knn_clf = KNeighborsClassifier()\n",
    "\n",
    "grid_search = GridSearchCV(knn_clf, param_grid, return_train_score=True)\n",
    "grid_search.fit(X_train, y_train)"
   ]
  },
  {
   "cell_type": "code",
   "execution_count": 2,
   "metadata": {},
   "outputs": [],
   "source": [
    "# Did not run the above in the end as it takes hours, checked against solutions and I was \n",
    "# pretty much there but no need to return_train_score as can just use .best_score_ \n",
    "# and accuracy_score() on predictions of X_test"
   ]
  },
  {
   "cell_type": "code",
   "execution_count": 21,
   "metadata": {},
   "outputs": [
    {
     "data": {
      "image/png": "[encoded data removed]",
      "text/plain": [
       "<Figure size 432x288 with 1 Axes>"
      ]
     },
     "metadata": {
      "needs_background": "light"
     },
     "output_type": "display_data"
    },
    {
     "data": {
      "image/png": "[encoded data removed]",
      "text/plain": [
       "<Figure size 432x288 with 1 Axes>"
      ]
     },
     "metadata": {
      "needs_background": "light"
     },
     "output_type": "display_data"
    },
    {
     "data": {
      "image/png": "[encoded data removed]",
      "text/plain": [
       "<Figure size 432x288 with 1 Axes>"
      ]
     },
     "metadata": {
      "needs_background": "light"
     },
     "output_type": "display_data"
    }
   ],
   "source": [
    "# Exercise 2: Write function to shift image left / right / up / down by 1 px\n",
    "# for each image in the dataset create 4 new ones, one shifted in each direction\n",
    "\n",
    "# Training on the new training set will cause \n",
    "# even better performance by artificially expanding the training set (not doing this step as lengthy to train)\n",
    "from scipy.ndimage.interpolation import shift\n",
    "import matplotlib.pyplot as plt\n",
    "\n",
    "def shift_image(image, shift_x, shift_y):\n",
    "    image = image.reshape(28, 28)\n",
    "    return shift(image, [shift_x, shift_y]).reshape([-1])\n",
    "\n",
    "\n",
    "plt.imshow(X[0].reshape(28, 28), cmap=\"Greys\")\n",
    "plt.show()\n",
    "test = shift_image(X[0], -3, 0)\n",
    "plt.imshow(test.reshape(28, 28), cmap=\"Greys\")\n",
    "plt.show()\n",
    "test_y = shift_image(X[0], 0, -3)\n",
    "plt.imshow(test_y.reshape(28, 28), cmap=\"Greys\")\n",
    "plt.show()\n",
    "\n",
    "X_train_expanded = [image for image in X_train]\n",
    "y_train_expanded = [label for label in y_train]\n",
    "\n",
    "for shift_x, shift_y in ((1, 0), (-1, 0), (0, 1), (0, -1)):\n",
    "    for image, label in zip(X_train, y_train):\n",
    "        X_train_expanded.append(shift_image(image, shift_x, shift_y))\n",
    "        y_train_expanded.append(label)\n",
    "# convert back to numpy array and you're good to train with KNeighborsClassifier with .best_params_ from CVSearch"
   ]
  },
  {
   "cell_type": "code",
   "execution_count": null,
   "metadata": {},
   "outputs": [],
   "source": []
  }
 ],
 "metadata": {
  "kernelspec": {
   "display_name": "Python 3",
   "language": "python",
   "name": "python3"
  },
  "language_info": {
   "codemirror_mode": {
    "name": "ipython",
    "version": 3
   },
   "file_extension": ".py",
   "mimetype": "text/x-python",
   "name": "python",
   "nbconvert_exporter": "python",
   "pygments_lexer": "ipython3",
   "version": "3.7.5"
  }
 },
 "nbformat": 4,
 "nbformat_minor": 4
}
